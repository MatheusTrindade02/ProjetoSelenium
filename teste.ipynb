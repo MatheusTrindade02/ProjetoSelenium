{
 "cells": [
  {
   "cell_type": "code",
   "execution_count": 1,
   "metadata": {},
   "outputs": [],
   "source": [
    "import pyautogui\n",
    "from time import sleep as s\n",
    "from selenium import webdriver\n",
    "\n",
    "from selenium.webdriver.chrome.service import Service as ChromeService\n",
    "from webdriver_manager.chrome import ChromeDriverManager\n",
    "\n",
    "from selenium.webdriver.common.by import By\n",
    "from selenium.webdriver.support.ui import WebDriverWait\n",
    "from selenium.webdriver.support import expected_conditions as EC\n",
    "from selenium.webdriver.common.keys import Keys\n",
    "\n",
    "from selenium.webdriver.chrome.options import Options\n",
    "\n",
    "option = Options()\n",
    "\n",
    "option.add_argument(\"--disable-infobars\")\n",
    "option.add_argument(\"start-maximized\")\n",
    "option.add_argument(\"--disable-extensions\")\n",
    "\n",
    "# Pass the argument 1 to allow and 2 to block\n",
    "option.add_experimental_option(\n",
    "    \"prefs\", {\"profile.default_content_setting_values.notifications\": 1}\n",
    ")\n",
    "\n",
    "nav = webdriver.Chrome(options=option, service=ChromeService(ChromeDriverManager().install()))\n",
    "\n",
    "link_facebook = \"https://www.google.com.br/?hl=pt-BR\"\n",
    "nav.get(link_facebook)\n",
    "nav.maximize_window()\n",
    "\n",
    "barra = '//*[@id=\"APjFqb\"]'\n",
    "barra_element = nav.find_element(By.XPATH, barra)\n",
    "barra_element.send_keys('youtube')\n",
    "barra_element.send_keys(Keys.ENTER)\n",
    "\n",
    "link = '//*[@id=\"rso\"]/div[1]/div/div/div/div/div/div/div/div[1]/div/span/a'\n",
    "link_url = nav.find_element(By.XPATH, link).click()"
   ]
  },
  {
   "cell_type": "code",
   "execution_count": 2,
   "metadata": {},
   "outputs": [
    {
     "name": "stdout",
     "output_type": "stream",
     "text": [
      "A divisão é: 1.75\n",
      "A subtração é 3\n",
      "A multiplicação é: 28\n",
      "A soma é 11\n"
     ]
    }
   ],
   "source": [
    "lista = []\n",
    "string = \"\"\n",
    "floating = 1.5\n",
    "\n",
    "# while len(lista)<3:\n",
    "#     a = input(\"Escreva um nome:\")\n",
    "#     lista.append(a)\n",
    "# print(lista)\n",
    "\n",
    "# nome = input(\"digite um nome: \")\n",
    "# string = nome\n",
    "# print(string)\n",
    "\n",
    "numero1 = int(input(\"Digite um numero:\"))\n",
    "numero2 = int(input(\"Digite outro numero:\"))\n",
    "\n",
    "soma = numero1+numero2\n",
    "try:\n",
    "    divisao = numero1/numero2\n",
    "    print(\"A divisão é:\", divisao)\n",
    "except:\n",
    "    pass\n",
    "\n",
    "multiplicacao = numero1*numero2\n",
    "subtracao = numero1 - numero2\n",
    "\n",
    "print(\"A subtração é\", subtracao)\n",
    "print(\"A multiplicação é:\", multiplicacao)\n",
    "print(\"A soma é\", soma)"
   ]
  }
 ],
 "metadata": {
  "kernelspec": {
   "display_name": "Python 3",
   "language": "python",
   "name": "python3"
  },
  "language_info": {
   "codemirror_mode": {
    "name": "ipython",
    "version": 3
   },
   "file_extension": ".py",
   "mimetype": "text/x-python",
   "name": "python",
   "nbconvert_exporter": "python",
   "pygments_lexer": "ipython3",
   "version": "3.12.1"
  }
 },
 "nbformat": 4,
 "nbformat_minor": 2
}
